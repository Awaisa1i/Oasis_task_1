{
 "cells": [
  {
   "cell_type": "markdown",
   "id": "57251b29",
   "metadata": {},
   "source": [
    "# Author : Awais Ali"
   ]
  },
  {
   "cell_type": "markdown",
   "id": "0012f218",
   "metadata": {},
   "source": [
    "# Batch : June Phase 2 OIBSIP\n",
    "\n",
    "# Task : Iris Flower Classification"
   ]
  },
  {
   "cell_type": "code",
   "execution_count": 1,
   "id": "158f04be",
   "metadata": {},
   "outputs": [],
   "source": [
    "import pandas as pd\n",
    "from sklearn.model_selection import train_test_split\n",
    "from sklearn.preprocessing import StandardScaler\n",
    "from sklearn.linear_model import LogisticRegression\n",
    "from sklearn.metrics import accuracy_score"
   ]
  },
  {
   "cell_type": "code",
   "execution_count": 3,
   "id": "feb25cb8",
   "metadata": {},
   "outputs": [],
   "source": [
    "iris = pd.read_csv('Iris.csv')"
   ]
  },
  {
   "cell_type": "code",
   "execution_count": 4,
   "id": "5d1d9cad",
   "metadata": {},
   "outputs": [
    {
     "data": {
      "text/html": [
       "<div>\n",
       "<style scoped>\n",
       "    .dataframe tbody tr th:only-of-type {\n",
       "        vertical-align: middle;\n",
       "    }\n",
       "\n",
       "    .dataframe tbody tr th {\n",
       "        vertical-align: top;\n",
       "    }\n",
       "\n",
       "    .dataframe thead th {\n",
       "        text-align: right;\n",
       "    }\n",
       "</style>\n",
       "<table border=\"1\" class=\"dataframe\">\n",
       "  <thead>\n",
       "    <tr style=\"text-align: right;\">\n",
       "      <th></th>\n",
       "      <th>Id</th>\n",
       "      <th>SepalLengthCm</th>\n",
       "      <th>SepalWidthCm</th>\n",
       "      <th>PetalLengthCm</th>\n",
       "      <th>PetalWidthCm</th>\n",
       "      <th>Species</th>\n",
       "    </tr>\n",
       "  </thead>\n",
       "  <tbody>\n",
       "    <tr>\n",
       "      <th>0</th>\n",
       "      <td>1</td>\n",
       "      <td>5.1</td>\n",
       "      <td>3.5</td>\n",
       "      <td>1.4</td>\n",
       "      <td>0.2</td>\n",
       "      <td>Iris-setosa</td>\n",
       "    </tr>\n",
       "    <tr>\n",
       "      <th>1</th>\n",
       "      <td>2</td>\n",
       "      <td>4.9</td>\n",
       "      <td>3.0</td>\n",
       "      <td>1.4</td>\n",
       "      <td>0.2</td>\n",
       "      <td>Iris-setosa</td>\n",
       "    </tr>\n",
       "    <tr>\n",
       "      <th>2</th>\n",
       "      <td>3</td>\n",
       "      <td>4.7</td>\n",
       "      <td>3.2</td>\n",
       "      <td>1.3</td>\n",
       "      <td>0.2</td>\n",
       "      <td>Iris-setosa</td>\n",
       "    </tr>\n",
       "    <tr>\n",
       "      <th>3</th>\n",
       "      <td>4</td>\n",
       "      <td>4.6</td>\n",
       "      <td>3.1</td>\n",
       "      <td>1.5</td>\n",
       "      <td>0.2</td>\n",
       "      <td>Iris-setosa</td>\n",
       "    </tr>\n",
       "    <tr>\n",
       "      <th>4</th>\n",
       "      <td>5</td>\n",
       "      <td>5.0</td>\n",
       "      <td>3.6</td>\n",
       "      <td>1.4</td>\n",
       "      <td>0.2</td>\n",
       "      <td>Iris-setosa</td>\n",
       "    </tr>\n",
       "  </tbody>\n",
       "</table>\n",
       "</div>"
      ],
      "text/plain": [
       "   Id  SepalLengthCm  SepalWidthCm  PetalLengthCm  PetalWidthCm      Species\n",
       "0   1            5.1           3.5            1.4           0.2  Iris-setosa\n",
       "1   2            4.9           3.0            1.4           0.2  Iris-setosa\n",
       "2   3            4.7           3.2            1.3           0.2  Iris-setosa\n",
       "3   4            4.6           3.1            1.5           0.2  Iris-setosa\n",
       "4   5            5.0           3.6            1.4           0.2  Iris-setosa"
      ]
     },
     "execution_count": 4,
     "metadata": {},
     "output_type": "execute_result"
    }
   ],
   "source": [
    "iris.head()"
   ]
  },
  {
   "cell_type": "code",
   "execution_count": 5,
   "id": "6d6d516c",
   "metadata": {},
   "outputs": [
    {
     "data": {
      "text/html": [
       "<div>\n",
       "<style scoped>\n",
       "    .dataframe tbody tr th:only-of-type {\n",
       "        vertical-align: middle;\n",
       "    }\n",
       "\n",
       "    .dataframe tbody tr th {\n",
       "        vertical-align: top;\n",
       "    }\n",
       "\n",
       "    .dataframe thead th {\n",
       "        text-align: right;\n",
       "    }\n",
       "</style>\n",
       "<table border=\"1\" class=\"dataframe\">\n",
       "  <thead>\n",
       "    <tr style=\"text-align: right;\">\n",
       "      <th></th>\n",
       "      <th>Id</th>\n",
       "      <th>SepalLengthCm</th>\n",
       "      <th>SepalWidthCm</th>\n",
       "      <th>PetalLengthCm</th>\n",
       "      <th>PetalWidthCm</th>\n",
       "    </tr>\n",
       "  </thead>\n",
       "  <tbody>\n",
       "    <tr>\n",
       "      <th>count</th>\n",
       "      <td>150.000000</td>\n",
       "      <td>150.000000</td>\n",
       "      <td>150.000000</td>\n",
       "      <td>150.000000</td>\n",
       "      <td>150.000000</td>\n",
       "    </tr>\n",
       "    <tr>\n",
       "      <th>mean</th>\n",
       "      <td>75.500000</td>\n",
       "      <td>5.843333</td>\n",
       "      <td>3.054000</td>\n",
       "      <td>3.758667</td>\n",
       "      <td>1.198667</td>\n",
       "    </tr>\n",
       "    <tr>\n",
       "      <th>std</th>\n",
       "      <td>43.445368</td>\n",
       "      <td>0.828066</td>\n",
       "      <td>0.433594</td>\n",
       "      <td>1.764420</td>\n",
       "      <td>0.763161</td>\n",
       "    </tr>\n",
       "    <tr>\n",
       "      <th>min</th>\n",
       "      <td>1.000000</td>\n",
       "      <td>4.300000</td>\n",
       "      <td>2.000000</td>\n",
       "      <td>1.000000</td>\n",
       "      <td>0.100000</td>\n",
       "    </tr>\n",
       "    <tr>\n",
       "      <th>25%</th>\n",
       "      <td>38.250000</td>\n",
       "      <td>5.100000</td>\n",
       "      <td>2.800000</td>\n",
       "      <td>1.600000</td>\n",
       "      <td>0.300000</td>\n",
       "    </tr>\n",
       "    <tr>\n",
       "      <th>50%</th>\n",
       "      <td>75.500000</td>\n",
       "      <td>5.800000</td>\n",
       "      <td>3.000000</td>\n",
       "      <td>4.350000</td>\n",
       "      <td>1.300000</td>\n",
       "    </tr>\n",
       "    <tr>\n",
       "      <th>75%</th>\n",
       "      <td>112.750000</td>\n",
       "      <td>6.400000</td>\n",
       "      <td>3.300000</td>\n",
       "      <td>5.100000</td>\n",
       "      <td>1.800000</td>\n",
       "    </tr>\n",
       "    <tr>\n",
       "      <th>max</th>\n",
       "      <td>150.000000</td>\n",
       "      <td>7.900000</td>\n",
       "      <td>4.400000</td>\n",
       "      <td>6.900000</td>\n",
       "      <td>2.500000</td>\n",
       "    </tr>\n",
       "  </tbody>\n",
       "</table>\n",
       "</div>"
      ],
      "text/plain": [
       "               Id  SepalLengthCm  SepalWidthCm  PetalLengthCm  PetalWidthCm\n",
       "count  150.000000     150.000000    150.000000     150.000000    150.000000\n",
       "mean    75.500000       5.843333      3.054000       3.758667      1.198667\n",
       "std     43.445368       0.828066      0.433594       1.764420      0.763161\n",
       "min      1.000000       4.300000      2.000000       1.000000      0.100000\n",
       "25%     38.250000       5.100000      2.800000       1.600000      0.300000\n",
       "50%     75.500000       5.800000      3.000000       4.350000      1.300000\n",
       "75%    112.750000       6.400000      3.300000       5.100000      1.800000\n",
       "max    150.000000       7.900000      4.400000       6.900000      2.500000"
      ]
     },
     "execution_count": 5,
     "metadata": {},
     "output_type": "execute_result"
    }
   ],
   "source": [
    "iris.describe()"
   ]
  },
  {
   "cell_type": "code",
   "execution_count": 6,
   "id": "84f8f032",
   "metadata": {},
   "outputs": [
    {
     "name": "stdout",
     "output_type": "stream",
     "text": [
      "<class 'pandas.core.frame.DataFrame'>\n",
      "RangeIndex: 150 entries, 0 to 149\n",
      "Data columns (total 6 columns):\n",
      " #   Column         Non-Null Count  Dtype  \n",
      "---  ------         --------------  -----  \n",
      " 0   Id             150 non-null    int64  \n",
      " 1   SepalLengthCm  150 non-null    float64\n",
      " 2   SepalWidthCm   150 non-null    float64\n",
      " 3   PetalLengthCm  150 non-null    float64\n",
      " 4   PetalWidthCm   150 non-null    float64\n",
      " 5   Species        150 non-null    object \n",
      "dtypes: float64(4), int64(1), object(1)\n",
      "memory usage: 7.2+ KB\n"
     ]
    }
   ],
   "source": [
    "iris.info()"
   ]
  },
  {
   "cell_type": "code",
   "execution_count": 7,
   "id": "e6514587",
   "metadata": {},
   "outputs": [
    {
     "name": "stdout",
     "output_type": "stream",
     "text": [
      "(112, 6)\n",
      "(38, 6)\n"
     ]
    }
   ],
   "source": [
    "train,test=train_test_split(iris, test_size = 0.25)\n",
    "print(train.shape)\n",
    "print(test.shape)"
   ]
  },
  {
   "cell_type": "code",
   "execution_count": 8,
   "id": "67e02392",
   "metadata": {},
   "outputs": [],
   "source": [
    "train_X =train[['SepalLengthCm','SepalWidthCm',\t'PetalLengthCm',\t'PetalWidthCm']]\n",
    "train_y=train.Species\n",
    "test_X = test[['SepalLengthCm','SepalWidthCm',\t'PetalLengthCm',\t'PetalWidthCm']]\n",
    "test_y=test.Species"
   ]
  },
  {
   "cell_type": "code",
   "execution_count": 9,
   "id": "5462f752",
   "metadata": {},
   "outputs": [
    {
     "data": {
      "text/html": [
       "<div>\n",
       "<style scoped>\n",
       "    .dataframe tbody tr th:only-of-type {\n",
       "        vertical-align: middle;\n",
       "    }\n",
       "\n",
       "    .dataframe tbody tr th {\n",
       "        vertical-align: top;\n",
       "    }\n",
       "\n",
       "    .dataframe thead th {\n",
       "        text-align: right;\n",
       "    }\n",
       "</style>\n",
       "<table border=\"1\" class=\"dataframe\">\n",
       "  <thead>\n",
       "    <tr style=\"text-align: right;\">\n",
       "      <th></th>\n",
       "      <th>SepalLengthCm</th>\n",
       "      <th>SepalWidthCm</th>\n",
       "      <th>PetalLengthCm</th>\n",
       "      <th>PetalWidthCm</th>\n",
       "    </tr>\n",
       "  </thead>\n",
       "  <tbody>\n",
       "    <tr>\n",
       "      <th>132</th>\n",
       "      <td>6.4</td>\n",
       "      <td>2.8</td>\n",
       "      <td>5.6</td>\n",
       "      <td>2.2</td>\n",
       "    </tr>\n",
       "    <tr>\n",
       "      <th>83</th>\n",
       "      <td>6.0</td>\n",
       "      <td>2.7</td>\n",
       "      <td>5.1</td>\n",
       "      <td>1.6</td>\n",
       "    </tr>\n",
       "    <tr>\n",
       "      <th>41</th>\n",
       "      <td>4.5</td>\n",
       "      <td>2.3</td>\n",
       "      <td>1.3</td>\n",
       "      <td>0.3</td>\n",
       "    </tr>\n",
       "    <tr>\n",
       "      <th>116</th>\n",
       "      <td>6.5</td>\n",
       "      <td>3.0</td>\n",
       "      <td>5.5</td>\n",
       "      <td>1.8</td>\n",
       "    </tr>\n",
       "    <tr>\n",
       "      <th>42</th>\n",
       "      <td>4.4</td>\n",
       "      <td>3.2</td>\n",
       "      <td>1.3</td>\n",
       "      <td>0.2</td>\n",
       "    </tr>\n",
       "  </tbody>\n",
       "</table>\n",
       "</div>"
      ],
      "text/plain": [
       "     SepalLengthCm  SepalWidthCm  PetalLengthCm  PetalWidthCm\n",
       "132            6.4           2.8            5.6           2.2\n",
       "83             6.0           2.7            5.1           1.6\n",
       "41             4.5           2.3            1.3           0.3\n",
       "116            6.5           3.0            5.5           1.8\n",
       "42             4.4           3.2            1.3           0.2"
      ]
     },
     "execution_count": 9,
     "metadata": {},
     "output_type": "execute_result"
    }
   ],
   "source": [
    "train_X.head()"
   ]
  },
  {
   "cell_type": "code",
   "execution_count": 10,
   "id": "452bbb10",
   "metadata": {},
   "outputs": [
    {
     "data": {
      "text/plain": [
       "96    Iris-versicolor\n",
       "67    Iris-versicolor\n",
       "98    Iris-versicolor\n",
       "99    Iris-versicolor\n",
       "49        Iris-setosa\n",
       "Name: Species, dtype: object"
      ]
     },
     "execution_count": 10,
     "metadata": {},
     "output_type": "execute_result"
    }
   ],
   "source": [
    "test_y.head()"
   ]
  },
  {
   "cell_type": "code",
   "execution_count": 11,
   "id": "7174d973",
   "metadata": {},
   "outputs": [],
   "source": [
    "Scaler=StandardScaler()"
   ]
  },
  {
   "cell_type": "code",
   "execution_count": 12,
   "id": "17850fa3",
   "metadata": {},
   "outputs": [
    {
     "data": {
      "text/plain": [
       "StandardScaler()"
      ]
     },
     "execution_count": 12,
     "metadata": {},
     "output_type": "execute_result"
    }
   ],
   "source": [
    "Scaler.fit(train_X)"
   ]
  },
  {
   "cell_type": "code",
   "execution_count": 13,
   "id": "7197f8c2",
   "metadata": {
    "scrolled": false
   },
   "outputs": [
    {
     "name": "stdout",
     "output_type": "stream",
     "text": [
      "[[ 0.6442305  -0.64535869  1.01652825  1.2835479 ]\n",
      " [ 0.16159628 -0.87555033  0.73789104  0.50787866]\n",
      " [-1.64828205 -1.79631687 -1.37975175 -1.17273801]\n",
      " [ 0.76488906 -0.18497542  0.96080081  0.76643508]\n",
      " [-1.7689406   0.27540785 -1.37975175 -1.30201621]\n",
      " [ 1.60949894  1.19617439  1.29516546  1.67138251]\n",
      " [-0.4416965   2.57732421 -1.32402431 -1.30201621]\n",
      " [ 2.21279172 -0.18497542  1.29516546  1.4128261 ]\n",
      " [-1.16564783 -1.3359336   0.40352639  0.63715687]\n",
      " [-0.92433072  0.96598276 -1.32402431 -1.17273801]\n",
      " [ 0.16159628 -0.18497542  0.57070871  0.76643508]\n",
      " [ 0.76488906 -0.18497542  1.12798313  1.2835479 ]\n",
      " [-0.32103794 -0.87555033  0.23634406  0.12004405]\n",
      " [-1.7689406  -0.18497542 -1.37975175 -1.30201621]\n",
      " [ 0.6442305   0.27540785  0.40352639  0.37860046]\n",
      " [-0.4416965   0.96598276 -1.37975175 -1.30201621]\n",
      " [-1.40696494  0.27540785 -1.21256943 -1.30201621]\n",
      " [-0.07972083 -0.87555033  0.73789104  0.89571328]\n",
      " [-0.92433072  0.96598276 -1.32402431 -1.30201621]\n",
      " [ 0.52357195 -0.64535869  0.73789104  0.37860046]\n",
      " [ 0.52357195 -1.79631687  0.34779895  0.12004405]\n",
      " [-1.04498927  0.73579112 -1.21256943 -1.0434598 ]\n",
      " [-0.92433072  1.65655766 -1.26829687 -1.17273801]\n",
      " [ 0.52357195 -1.3359336   0.62643615  0.37860046]\n",
      " [-1.52762349  0.04521621 -1.26829687 -1.30201621]\n",
      " [ 1.24752328  0.04521621  0.62643615  0.37860046]\n",
      " [-0.20037939  3.03770748 -1.26829687 -1.0434598 ]\n",
      " [ 1.00620617  0.50559949  1.07225569  1.67138251]\n",
      " [-0.92433072  1.42636603 -1.26829687 -1.0434598 ]\n",
      " [-0.20037939 -1.3359336   0.6821636   1.02499149]\n",
      " [-0.4416965  -1.56612524 -0.04229315 -0.26779057]\n",
      " [-0.20037939 -0.18497542  0.23634406 -0.00923416]\n",
      " [ 0.04093772 -0.18497542  0.23634406  0.37860046]\n",
      " [-0.92433072  1.65655766 -1.0453871  -1.0434598 ]\n",
      " [-1.04498927 -1.79631687 -0.26520292 -0.26779057]\n",
      " [-1.04498927  0.27540785 -1.43547919 -1.30201621]\n",
      " [ 1.85081605 -0.64535869  1.29516546  0.89571328]\n",
      " [-1.52762349  0.73579112 -1.32402431 -1.17273801]\n",
      " [-1.28630638  0.04521621 -1.21256943 -1.30201621]\n",
      " [-0.07972083 -0.64535869  0.73789104  1.54210431]\n",
      " [ 0.28225483 -0.64535869  0.51498127 -0.00923416]\n",
      " [ 1.12686472 -0.64535869  0.57070871  0.24932225]\n",
      " [ 0.40291339 -2.02650851  0.40352639  0.37860046]\n",
      " [-0.4416965  -1.3359336   0.12488918  0.12004405]\n",
      " [ 1.00620617 -1.3359336   1.12798313  0.76643508]\n",
      " [-1.16564783  0.04521621 -1.26829687 -1.43129442]\n",
      " [-0.56235505  1.8867493  -1.15684198 -1.0434598 ]\n",
      " [-1.04498927  0.96598276 -1.21256943 -0.78490339]\n",
      " [ 0.52357195  0.50559949  1.23943801  1.67138251]\n",
      " [-0.56235505 -0.18497542  0.40352639  0.37860046]\n",
      " [ 0.16159628 -0.41516706  0.40352639  0.37860046]\n",
      " [-1.28630638 -0.18497542 -1.32402431 -1.43129442]\n",
      " [ 0.76488906  0.27540785  0.73789104  1.02499149]\n",
      " [ 2.45410883  1.65655766  1.46234778  1.02499149]\n",
      " [ 1.24752328  0.27540785  1.07225569  1.4128261 ]\n",
      " [ 0.52357195 -0.87555033  0.62643615  0.76643508]\n",
      " [ 0.16159628  0.73579112  0.40352639  0.50787866]\n",
      " [-0.80367216  0.73579112 -1.32402431 -1.30201621]\n",
      " [ 0.40291339 -0.41516706  0.2920715   0.12004405]\n",
      " [-1.16564783  0.04521621 -1.26829687 -1.43129442]\n",
      " [-1.28630638  0.73579112 -1.21256943 -1.30201621]\n",
      " [ 0.28225483 -0.41516706  0.51498127  0.24932225]\n",
      " [ 1.12686472 -0.18497542  0.96080081  1.15426969]\n",
      " [-1.7689406  -0.41516706 -1.32402431 -1.30201621]\n",
      " [-0.92433072  1.65655766 -1.21256943 -1.30201621]\n",
      " [ 0.28225483 -1.10574196  1.01652825  0.24932225]\n",
      " [-0.56235505  1.42636603 -1.26829687 -1.30201621]\n",
      " [ 2.09213316 -0.18497542  1.57380267  1.15426969]\n",
      " [ 1.60949894  0.27540785  1.23943801  0.76643508]\n",
      " [ 1.36818183  0.27540785  0.51498127  0.24932225]\n",
      " [-1.52762349  0.27540785 -1.32402431 -1.30201621]\n",
      " [-0.07972083 -0.87555033  0.06916174 -0.00923416]\n",
      " [-0.4416965  -1.10574196  0.34779895 -0.00923416]\n",
      " [ 0.28225483 -0.18497542  0.62643615  0.76643508]\n",
      " [-0.07972083  2.11694094 -1.43547919 -1.30201621]\n",
      " [ 0.6442305  -0.87555033  0.84934592  0.89571328]\n",
      " [ 0.40291339 -0.64535869  0.57070871  0.76643508]\n",
      " [ 0.52357195 -0.41516706  1.01652825  0.76643508]\n",
      " [-0.80367216  2.34713257 -1.26829687 -1.43129442]\n",
      " [ 0.6442305  -0.41516706  0.2920715   0.12004405]\n",
      " [ 0.28225483 -0.64535869  0.12488918  0.12004405]\n",
      " [-0.07972083 -0.87555033  0.73789104  0.89571328]\n",
      " [ 1.00620617  0.50559949  1.07225569  1.15426969]\n",
      " [-0.20037939  1.65655766 -1.15684198 -1.17273801]\n",
      " [ 1.00620617  0.04521621  0.34779895  0.24932225]\n",
      " [-1.04498927  0.73579112 -1.26829687 -1.30201621]\n",
      " [ 0.6442305  -0.64535869  1.01652825  1.15426969]\n",
      " [-1.52762349  1.19617439 -1.54693408 -1.30201621]\n",
      " [ 0.6442305   0.04521621  0.96080081  0.76643508]\n",
      " [ 0.6442305   0.27540785  0.84934592  1.4128261 ]\n",
      " [ 1.00620617 -0.18497542  0.6821636   0.63715687]\n",
      " [ 2.21279172 -0.64535869  1.62953011  1.02499149]\n",
      " [ 0.52357195  0.50559949  0.51498127  0.50787866]\n",
      " [ 0.52357195 -1.3359336   0.6821636   0.89571328]\n",
      " [ 1.00620617  0.04521621  1.01652825  1.54210431]\n",
      " [ 0.88554761 -0.18497542  0.34779895  0.24932225]\n",
      " [-0.32103794 -0.41516706 -0.09802059  0.12004405]\n",
      " [-0.4416965  -1.79631687  0.12488918  0.12004405]\n",
      " [ 0.52357195  0.73579112  1.01652825  1.54210431]\n",
      " [-1.28630638  0.73579112 -1.0453871  -1.30201621]\n",
      " [-0.20037939 -1.10574196 -0.15374803 -0.26779057]\n",
      " [-1.28630638 -0.18497542 -1.32402431 -1.17273801]\n",
      " [ 0.28225483 -0.18497542  0.45925383  0.24932225]\n",
      " [ 1.7301575  -0.41516706  1.40662034  0.76643508]\n",
      " [-1.16564783 -0.18497542 -1.32402431 -1.30201621]\n",
      " [ 0.16159628 -2.02650851  0.6821636   0.37860046]\n",
      " [ 0.04093772  0.27540785  0.57070871  0.76643508]\n",
      " [-0.56235505  0.73579112 -1.26829687 -1.0434598 ]\n",
      " [-0.92433072  0.73579112 -1.26829687 -1.30201621]\n",
      " [-1.04498927  1.19617439 -1.32402431 -1.30201621]\n",
      " [ 1.24752328  0.04521621  0.90507336  1.15426969]\n",
      " [ 1.48884039 -0.18497542  1.18371057  1.15426969]]\n"
     ]
    }
   ],
   "source": [
    "standardized_data = Scaler.transform(train_X)\n",
    "print(standardized_data)"
   ]
  },
  {
   "cell_type": "markdown",
   "id": "4557a126",
   "metadata": {},
   "source": [
    "# Task Completed\n"
   ]
  }
 ],
 "metadata": {
  "kernelspec": {
   "display_name": "Python 3 (ipykernel)",
   "language": "python",
   "name": "python3"
  },
  "language_info": {
   "codemirror_mode": {
    "name": "ipython",
    "version": 3
   },
   "file_extension": ".py",
   "mimetype": "text/x-python",
   "name": "python",
   "nbconvert_exporter": "python",
   "pygments_lexer": "ipython3",
   "version": "3.9.13"
  }
 },
 "nbformat": 4,
 "nbformat_minor": 5
}
